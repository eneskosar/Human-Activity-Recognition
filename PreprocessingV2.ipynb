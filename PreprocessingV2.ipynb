{
  "nbformat": 4,
  "nbformat_minor": 0,
  "metadata": {
    "colab": {
      "name": "PreprocessingV2.ipynb",
      "provenance": [],
      "collapsed_sections": [
        "34SrPBEfF8MM",
        "jQie2a9syK94"
      ],
      "toc_visible": true,
      "authorship_tag": "ABX9TyPH9s7ynfnpwFLHzA8V2MQe",
      "include_colab_link": true
    },
    "kernelspec": {
      "name": "python3",
      "display_name": "Python 3"
    }
  },
  "cells": [
    {
      "cell_type": "markdown",
      "metadata": {
        "id": "view-in-github",
        "colab_type": "text"
      },
      "source": [
        "<a href=\"https://colab.research.google.com/github/eneskosar/Human-Activity-Recognition/blob/master/PreprocessingV2.ipynb\" target=\"_parent\"><img src=\"https://colab.research.google.com/assets/colab-badge.svg\" alt=\"Open In Colab\"/></a>"
      ]
    },
    {
      "cell_type": "markdown",
      "metadata": {
        "id": "a2QpzyW12CHZ",
        "colab_type": "text"
      },
      "source": [
        "# Imports"
      ]
    },
    {
      "cell_type": "code",
      "metadata": {
        "id": "DYRnJqbZ469o",
        "colab_type": "code",
        "colab": {}
      },
      "source": [
        "from google.colab import drive\n",
        "drive.mount('/content/gdrive/')"
      ],
      "execution_count": null,
      "outputs": []
    },
    {
      "cell_type": "markdown",
      "metadata": {
        "id": "NpLiYPp_44Hz",
        "colab_type": "text"
      },
      "source": [
        "# Imports"
      ]
    },
    {
      "cell_type": "code",
      "metadata": {
        "id": "IYYlF3FGyuOz",
        "colab_type": "code",
        "colab": {}
      },
      "source": [
        "from __future__ import print_function\n",
        "from matplotlib import pyplot as plt\n",
        "%matplotlib inline\n",
        "import numpy as np\n",
        "import pandas as pd\n",
        "import os\n",
        "import seaborn as sns\n",
        "from scipy import stats\n",
        "from IPython.display import display, HTML\n",
        "import h5py\n",
        "import time\n",
        "\n",
        "from sklearn import metrics\n",
        "from sklearn.metrics import classification_report\n",
        "from sklearn import preprocessing\n",
        "\n",
        "import keras\n",
        "from keras.models import Sequential\n",
        "from keras.layers import Dense, Dropout, Flatten, Reshape, LSTM\n",
        "from keras.layers import Conv2D, MaxPooling2D, BatchNormalization\n",
        "from keras.utils import np_utils"
      ],
      "execution_count": null,
      "outputs": []
    },
    {
      "cell_type": "markdown",
      "metadata": {
        "id": "Cv0xXLqCG6WW",
        "colab_type": "text"
      },
      "source": [
        "# Function Definitions"
      ]
    },
    {
      "cell_type": "code",
      "metadata": {
        "id": "QyD2kdY3yuO2",
        "colab_type": "code",
        "colab": {}
      },
      "source": [
        " direct = '/content/gdrive/My Drive/Colab Notebooks/HARproject'\n",
        "\n",
        " def create_segments(subjectList ):\n",
        "    \n",
        "     N_FEATURES = 45\n",
        "     time_steps = 125\n",
        "\n",
        "     segmentsTraining = []\n",
        "     labelsTraining = []\n",
        "     subjectsTraining = []\n",
        "\n",
        "     for activity in range(19):\n",
        "       if activity < 9:\n",
        "         file_name = f\"{direct}/data/a0{activity+1}\"\n",
        "       else:  \n",
        "         file_name = f\"{direct}/data/a{activity+1}\"\n",
        "       for subject in subjectList:\n",
        "         file_name_2 = f\"{file_name}/p{subject}\"\n",
        "         for segment in range(60):\n",
        "           if segment <9:\n",
        "             file_name_3 = f\"{file_name_2}/s0{segment+1}.txt\"\n",
        "           else:\n",
        "             file_name_3 = f\"{file_name_2}/s{segment+1}.txt\" \n",
        "           arr = np.loadtxt(fname = file_name_3, delimiter = \",\") # read text file\n",
        "           segmentsTraining.append([arr])\n",
        "           labelsTraining.append(activity)\n",
        "           subjectsTraining.append(subject)\n",
        "\n",
        "     reshaped_segments = np.asarray(segmentsTraining, dtype = np.float32).reshape(-1, time_steps, N_FEATURES)\n",
        "     labels = np.asarray(labelsTraining)\n",
        "     subjects = np.asarray(subjectsTraining)\n",
        "    \n",
        "     return reshaped_segments, labels"
      ],
      "execution_count": null,
      "outputs": []
    },
    {
      "cell_type": "code",
      "metadata": {
        "id": "ZV8I_bC0q41H",
        "colab_type": "code",
        "colab": {}
      },
      "source": [
        " def shuffle_data(segments, labels):\n",
        "    \n",
        "     idx = np.random.permutation(segments.shape[0])\n",
        "     segments_shuffled = segments[idx]\n",
        "     labels_shuffled = labels[idx]\n",
        "    \n",
        "     return segments_shuffled, labels_shuffled"
      ],
      "execution_count": null,
      "outputs": []
    },
    {
      "cell_type": "code",
      "metadata": {
        "id": "vFiYIK0oP4vL",
        "colab_type": "code",
        "colab": {}
      },
      "source": [
        "def normalize_segments(segments):\n",
        "    normalized_segments = []\n",
        "\n",
        "    for i in range(segments.shape[0]):\n",
        "        seg = segments[i, :, :]\n",
        "        seg_norm = (seg - seg.min(axis=0)) / (seg.max(axis=0) - seg.min(axis=0))\n",
        "        normalized_segments.append(seg_norm)\n",
        "\n",
        "    return np.asarray(normalized_segments)\n",
        "\n",
        "\n",
        "def prepare_data_for_network(data, labels):\n",
        "    data = data.astype('float32')\n",
        "    labels = labels.astype('float32')\n",
        "\n",
        "    labels_hot = np_utils.to_categorical((labels))\n",
        "\n",
        "    return data, labels_hot"
      ],
      "execution_count": null,
      "outputs": []
    },
    {
      "cell_type": "markdown",
      "metadata": {
        "id": "34SrPBEfF8MM",
        "colab_type": "text"
      },
      "source": [
        "# Variable Declarations"
      ]
    },
    {
      "cell_type": "code",
      "metadata": {
        "id": "hil8XraYyuO8",
        "colab_type": "code",
        "colab": {}
      },
      "source": [
        "segments_Training1, segments_Training2, segments_Training3, segments_Training4 = [],[],[],[]\n",
        "segments_Training5, segments_Training6, segments_Training7, segments_Training8 = [],[],[],[]\n",
        "labels_Training1, labels_Training2, labels_Training3, labels_Training4 = [],[],[],[]\n",
        "labels_Training5, labels_Training6, labels_Training7, labels_Training8 = [],[],[],[]\n",
        "\n",
        "segments_Validation1, segments_Validation2, segments_Validation3, segments_Validation4 = [],[],[],[]\n",
        "segments_Validation5, segments_Validation6, segments_Validation7, segments_Validation8 = [],[],[],[]\n",
        "labels_Validation1, labels_Validation2, labels_Validation3, labels_Validation4 = [],[],[],[]\n",
        "labels_Validation5, labels_Validation6, labels_Validation7, labels_Validation8 = [],[],[],[]\n",
        "\n",
        "segments = {\"segments_Training1\": segments_Training1, \"labels_Training1\":labels_Training1,\n",
        "            \"segments_Training2\": segments_Training2, \"labels_Training2\":labels_Training2,\n",
        "            \"segments_Training3\": segments_Training3, \"labels_Training3\":labels_Training3,\n",
        "            \"segments_Training4\": segments_Training4, \"labels_Training4\":labels_Training4,\n",
        "            \"segments_Training5\": segments_Training5, \"labels_Training5\":labels_Training5,\n",
        "            \"segments_Training6\": segments_Training6, \"labels_Training6\":labels_Training6,\n",
        "            \"segments_Training7\": segments_Training7, \"labels_Training7\":labels_Training7,\n",
        "            \"segments_Training8\": segments_Training8, \"labels_Training8\":labels_Training8,\n",
        "            \"segments_Validation1\": segments_Validation1, \"labels_Validation1\":labels_Validation1,\n",
        "            \"segments_Validation2\": segments_Validation2, \"labels_Validation2\":labels_Validation2,\n",
        "            \"segments_Validation3\": segments_Validation3, \"labels_Validation3\":labels_Validation3,\n",
        "            \"segments_Validation4\": segments_Validation4, \"labels_Validation4\":labels_Validation4,\n",
        "            \"segments_Validation5\": segments_Validation5, \"labels_Validation5\":labels_Validation5,\n",
        "            \"segments_Validation6\": segments_Validation6, \"labels_Validation6\":labels_Validation6,\n",
        "            \"segments_Validation7\": segments_Validation7, \"labels_Validation7\":labels_Validation7,\n",
        "            \"segments_Validation8\": segments_Validation8, \"labels_Validation8\":labels_Validation8}\n",
        "\n",
        "  "
      ],
      "execution_count": null,
      "outputs": []
    },
    {
      "cell_type": "markdown",
      "metadata": {
        "id": "L3baNXvaGA9p",
        "colab_type": "text"
      },
      "source": [
        "# Applying Functions"
      ]
    },
    {
      "cell_type": "code",
      "metadata": {
        "id": "dfA03Swr9diG",
        "colab_type": "code",
        "colab": {
          "base_uri": "https://localhost:8080/",
          "height": 34
        },
        "outputId": "ed23ac51-ea81-47b2-bc11-e538343c776a"
      },
      "source": [
        "start_time = time.time()\n",
        "\n",
        "subject_number_list = [1,2,3,4,5,6,7,8]                          \n",
        "for i in range(8):\n",
        "  temp = subject_number_list.copy()\n",
        "  temp.remove(i+1)\n",
        "  segments[f\"segments_Training{i+1}\"], segments[f\"labels_Training{i+1}\"] = create_segments(temp)\n",
        "#for i in range(8):\n",
        "  segments[f\"segments_Validation{i+1}\"], segments[f\"labels_Validation{i+1}\"] = create_segments([i+1])\n",
        "\n",
        "end_time = time.time()\n",
        "print(f\"total time is: {end_time-start_time}\")"
      ],
      "execution_count": null,
      "outputs": [
        {
          "output_type": "stream",
          "text": [
            "total time is: 367.2416422367096\n"
          ],
          "name": "stdout"
        }
      ]
    },
    {
      "cell_type": "code",
      "metadata": {
        "id": "OuEnB3Hq9esv",
        "colab_type": "code",
        "colab": {
          "base_uri": "https://localhost:8080/",
          "height": 34
        },
        "outputId": "db99dfb0-1b0a-4f57-e39c-d43b68afd59e"
      },
      "source": [
        "start_time = time.time()\n",
        "\n",
        "for i in range(8):\n",
        "  segments[f\"segments_Training{i+1}\"] = normalize_segments(segments[f\"segments_Training{i+1}\"])\n",
        "  segments[f\"segments_Validation{i+1}\"] = normalize_segments(segments[f\"segments_Validation{i+1}\"])\n",
        "\n",
        "end_time = time.time()\n",
        "print(f\"total time is: {end_time-start_time}\")  \n"
      ],
      "execution_count": null,
      "outputs": [
        {
          "output_type": "stream",
          "text": [
            "total time is: 6.435402870178223\n"
          ],
          "name": "stdout"
        }
      ]
    },
    {
      "cell_type": "code",
      "metadata": {
        "id": "AMehR77c94Ip",
        "colab_type": "code",
        "colab": {
          "base_uri": "https://localhost:8080/",
          "height": 170
        },
        "outputId": "8a5e5e4a-c482-435b-9799-cd8017101020"
      },
      "source": [
        "start_time = time.time()\n",
        "\n",
        "for i in range(8):\n",
        "  print(segments[f\"labels_Training{i+1}\"].shape)\n",
        "  segments[f\"segments_Training{i+1}\"], segments[f\"labels_Training{i+1}\"] = prepare_data_for_network(segments[f\"segments_Training{i+1}\"], segments[f\"labels_Training{i+1}\"])\n",
        "\n",
        "  segments[f\"segments_Validation{i+1}\"], segments[f\"labels_Validation{i+1}\"] = prepare_data_for_network(segments[f\"segments_Validation{i+1}\"]\n",
        "  , segments[f\"labels_Validation{i+1}\"])\n",
        "\n",
        "end_time = time.time()\n",
        "print(f\"total time is: {end_time-start_time}\")"
      ],
      "execution_count": null,
      "outputs": [
        {
          "output_type": "stream",
          "text": [
            "(7980,)\n",
            "(7980,)\n",
            "(7980,)\n",
            "(7980,)\n",
            "(7980,)\n",
            "(7980,)\n",
            "(7980,)\n",
            "(7980,)\n",
            "total time is: 0.5576686859130859\n"
          ],
          "name": "stdout"
        }
      ]
    },
    {
      "cell_type": "code",
      "metadata": {
        "id": "GH-eak1J-xtS",
        "colab_type": "code",
        "colab": {
          "base_uri": "https://localhost:8080/",
          "height": 34
        },
        "outputId": "ac1fa470-6c41-4b56-d532-2f6d86f3bc83"
      },
      "source": [
        "start_time = time.time()\n",
        "\n",
        "for i in range(8):\n",
        "  segments[f\"segments_Training{i+1}\"], segments[f\"labels_Training{i+1}\"] = shuffle_data(segments[f\"segments_Training{i+1}\"]\n",
        "  , segments[f\"labels_Training{i+1}\"])\n",
        "\n",
        "  segments[f\"segments_Validation{i+1}\"], segments[f\"labels_Validation{i+1}\"] = shuffle_data(segments[f\"segments_Validation{i+1}\"]\n",
        "  , segments[f\"labels_Validation{i+1}\"])\n",
        "\n",
        "end_time = time.time()\n",
        "print(f\"total time is: {end_time-start_time}\")"
      ],
      "execution_count": null,
      "outputs": [
        {
          "output_type": "stream",
          "text": [
            "total time is: 0.4792478084564209\n"
          ],
          "name": "stdout"
        }
      ]
    },
    {
      "cell_type": "markdown",
      "metadata": {
        "id": "jQie2a9syK94",
        "colab_type": "text"
      },
      "source": [
        "# Variable Declarations"
      ]
    },
    {
      "cell_type": "code",
      "metadata": {
        "id": "VyHl4gVS_TWD",
        "colab_type": "code",
        "colab": {}
      },
      "source": [
        "allDataTraining1, allDataTraining2, allDataTraining3, allDataTraining4 = [],[],[],[]\n",
        "allDataTraining5,allDataTraining6,allDataTraining7,allDataTraining8 = [],[],[],[]\n",
        "\n",
        "chestDataTraining1, chestDataTraining2, chestDataTraining3, chestDataTraining4 = [],[],[],[]\n",
        "chestDataTraining5,chestDataTraining6,chestDataTraining7,chestDataTraining8 = [],[],[],[]\n",
        "\n",
        "rArmDataTraining1, rArmDataTraining2, rArmDataTraining3, rArmDataTraining4 = [],[],[],[]\n",
        "rArmDataTraining5,rArmDataTraining6,rArmDataTraining7,rArmDataTraining8 = [],[],[],[]\n",
        "\n",
        "lArmDataTraining1, lArmDataTraining2, lArmDataTraining3, lArmDataTraining4 = [],[],[],[]\n",
        "lArmDataTraining5,lArmDataTraining6,lArmDataTraining7,lArmDataTraining8 = [],[],[],[]\n",
        "\n",
        "rLegDataTraining1, rLegDataTraining2, rLegDataTraining3, rLegDataTraining4 = [],[],[],[]\n",
        "rLegDataTraining5,rLegDataTraining6,rLegDataTraining7,rLegDataTraining8 = [],[],[],[]\n",
        "\n",
        "lLegDataTraining1, lLegDataTraining2, lLegDataTraining3, lLegDataTraining4 = [],[],[],[]\n",
        "lLegDataTraining5,lLegDataTraining6,lLegDataTraining7,lLegDataTraining8 = [],[],[],[]\n",
        "\n",
        "chest_lArm_lLegDataTraining1, chest_lArm_lLegDataTraining2, chest_lArm_lLegDataTraining3, chest_lArm_lLegDataTraining4 = [],[],[],[]\n",
        "chest_lArm_lLegDataTraining5,chest_lArm_lLegDataTraining6,chest_lArm_lLegDataTraining7,chest_lArm_lLegDataTraining8 = [],[],[],[]\n",
        "##########################################################\n",
        "allDataValidation1, allDataValidation2, allDataValidation3, allDataValidation4 = [],[],[],[]\n",
        "allDataValidation5,allDataValidation6,allDataValidation7,allDataValidation8 = [],[],[],[]\n",
        "\n",
        "chestDataValidation1, chestDataValidation2, chestDataValidation3, chestDataValidation4 = [],[],[],[]\n",
        "chestDataValidation5,chestDataValidation6,chestDataValidation7,chestDataValidation8 = [],[],[],[]\n",
        "\n",
        "rArmDataValidation1, rArmDataValidation2, rArmDataValidation3, rArmDataValidation4 = [],[],[],[]\n",
        "rArmDataValidation5,rArmDataValidation6,rArmDataValidation7,rArmDataValidation8 = [],[],[],[]\n",
        "\n",
        "lArmDataValidation1, lArmDataValidation2, lArmDataValidation3, lArmDataValidation4 = [],[],[],[]\n",
        "lArmDataValidation5,lArmDataValidation6,lArmDataValidation7,lArmDataValidation8 = [],[],[],[]\n",
        "\n",
        "rLegDataValidation1, rLegDataValidation2, rLegDataValidation3, rLegDataValidation4 = [],[],[],[]\n",
        "rLegDataValidation5,rLegDataValidation6,rLegDataValidation7,rLegDataValidation8 = [],[],[],[]\n",
        "\n",
        "lLegDataValidation1, lLegDataValidation2, lLegDataValidation3, lLegDataValidation4 = [],[],[],[]\n",
        "lLegDataValidation5,lLegDataValidation6,lLegDataValidation7,lLegDataValidation8 = [],[],[],[]\n",
        "\n",
        "chest_lArm_lLegDataValidation1, chest_lArm_lLegDataValidation2, chest_lArm_lLegDataValidation3, chest_lArm_lLegDataValidation4 = [],[],[],[]\n",
        "chest_lArm_lLegDataValidation5,chest_lArm_lLegDataValidation6,chest_lArm_lLegDataValidation7,chest_lArm_lLegDataValidation8 = [],[],[],[]\n",
        "\n"
      ],
      "execution_count": null,
      "outputs": []
    },
    {
      "cell_type": "code",
      "metadata": {
        "id": "UjyjSZZKApx7",
        "colab_type": "code",
        "colab": {}
      },
      "source": [
        "particular_sensor_data = {\n",
        "    \n",
        "            \"allDataTraining1\": allDataTraining1,\n",
        "            \"allDataTraining2\": allDataTraining2,\n",
        "            \"allDataTraining3\": allDataTraining3,\n",
        "            \"allDataTraining4\": allDataTraining4,\n",
        "            \"allDataTraining5\": allDataTraining5,\n",
        "            \"allDataTraining6\": allDataTraining6,\n",
        "            \"allDataTraining7\": allDataTraining7,\n",
        "            \"allDataTraining8\": allDataTraining8,\n",
        "\n",
        "            \"chestDataTraining1\": chestDataTraining1,\n",
        "            \"chestDataTraining2\": chestDataTraining2,\n",
        "            \"chestDataTraining3\": chestDataTraining3,\n",
        "            \"chestDataTraining4\": chestDataTraining4,\n",
        "            \"chestDataTraining5\": chestDataTraining5,\n",
        "            \"chestDataTraining6\": chestDataTraining6,\n",
        "            \"chestDataTraining7\": chestDataTraining7,\n",
        "            \"chestDataTraining8\": chestDataTraining8,\n",
        "\n",
        "            \"rArmDataTraining1\": rArmDataTraining1,\n",
        "            \"rArmDataTraining2\": rArmDataTraining2,\n",
        "            \"rArmDataTraining3\": rArmDataTraining3,\n",
        "            \"rArmDataTraining4\": rArmDataTraining4,\n",
        "            \"rArmDataTraining5\": rArmDataTraining5,\n",
        "            \"rArmDataTraining6\": rArmDataTraining6,\n",
        "            \"rArmDataTraining7\": rArmDataTraining7,\n",
        "            \"rArmDataTraining8\": rArmDataTraining8, \n",
        "\n",
        "            \"lArmDataTraining1\": lArmDataTraining1,\n",
        "            \"lArmDataTraining2\": lArmDataTraining2,\n",
        "            \"lArmDataTraining3\": lArmDataTraining3,\n",
        "            \"lArmDataTraining4\": lArmDataTraining4,\n",
        "            \"lArmDataTraining5\": lArmDataTraining5,\n",
        "            \"lArmDataTraining6\": lArmDataTraining6,\n",
        "            \"lArmDataTraining7\": lArmDataTraining7,\n",
        "            \"lArmDataTraining8\": lArmDataTraining8,\n",
        "\n",
        "            \"rLegDataTraining1\": rLegDataTraining1,\n",
        "            \"rLegDataTraining2\": rLegDataTraining2,\n",
        "            \"rLegDataTraining3\": rLegDataTraining3,\n",
        "            \"rLegDataTraining4\": rLegDataTraining4,\n",
        "            \"rLegDataTraining5\": rLegDataTraining5,\n",
        "            \"rLegDataTraining6\": rLegDataTraining6,\n",
        "            \"rLegDataTraining7\": rLegDataTraining7,\n",
        "            \"rLegDataTraining8\": rLegDataTraining8,\n",
        "\n",
        "            \"lLegDataTraining1\": lLegDataTraining1,\n",
        "            \"lLegDataTraining2\": lLegDataTraining2,\n",
        "            \"lLegDataTraining3\": lLegDataTraining3,\n",
        "            \"lLegDataTraining4\": lLegDataTraining4,\n",
        "            \"lLegDataTraining5\": lLegDataTraining5,\n",
        "            \"lLegDataTraining6\": lLegDataTraining6,\n",
        "            \"lLegDataTraining7\": lLegDataTraining7,\n",
        "            \"lLegDataTraining8\": lLegDataTraining8,\n",
        "\n",
        "            \"chest_lArm_lLegDataTraining1\": chest_lArm_lLegDataTraining1,\n",
        "            \"chest_lArm_lLegDataTraining2\": chest_lArm_lLegDataTraining2,\n",
        "            \"chest_lArm_lLegDataTraining3\": chest_lArm_lLegDataTraining3,\n",
        "            \"chest_lArm_lLegDataTraining4\": chest_lArm_lLegDataTraining4,\n",
        "            \"chest_lArm_lLegDataTraining5\": chest_lArm_lLegDataTraining5,\n",
        "            \"chest_lArm_lLegDataTraining6\": chest_lArm_lLegDataTraining6,\n",
        "            \"chest_lArm_lLegDataTraining7\": chest_lArm_lLegDataTraining7,\n",
        "            \"chest_lArm_lLegDataTraining8\": chest_lArm_lLegDataTraining8,\n",
        "            \n",
        "            ############################3\n",
        "            \"allDataValidation1\": allDataValidation1,\n",
        "            \"allDataValidation2\": allDataValidation2,\n",
        "            \"allDataValidation3\": allDataValidation3,\n",
        "            \"allDataValidation4\": allDataValidation4,\n",
        "            \"allDataValidation5\": allDataValidation5,\n",
        "            \"allDataValidation6\": allDataValidation6,\n",
        "            \"allDataValidation7\": allDataValidation7,\n",
        "            \"allDataValidation8\": allDataValidation8,\n",
        "\n",
        "            \"chestDataValidation1\": chestDataValidation1,\n",
        "            \"chestDataValidation2\": chestDataValidation2,\n",
        "            \"chestDataValidation3\": chestDataValidation3,\n",
        "            \"chestDataValidation4\": chestDataValidation4,\n",
        "            \"chestDataValidation5\": chestDataValidation5,\n",
        "            \"chestDataValidation6\": chestDataValidation6,\n",
        "            \"chestDataValidation7\": chestDataValidation7,\n",
        "            \"chestDataValidation8\": chestDataValidation8,\n",
        "\n",
        "            \"rArmDataValidation1\": rArmDataValidation1,\n",
        "            \"rArmDataValidation2\": rArmDataValidation2,\n",
        "            \"rArmDataValidation3\": rArmDataValidation3,\n",
        "            \"rArmDataValidation4\": rArmDataValidation4,\n",
        "            \"rArmDataValidation5\": rArmDataValidation5,\n",
        "            \"rArmDataValidation6\": rArmDataValidation6,\n",
        "            \"rArmDataValidation7\": rArmDataValidation7,\n",
        "            \"rArmDataValidation8\": rArmDataValidation8, \n",
        "\n",
        "            \"lArmDataValidation1\": lArmDataValidation1,\n",
        "            \"lArmDataValidation2\": lArmDataValidation2,\n",
        "            \"lArmDataValidation3\": lArmDataValidation3,\n",
        "            \"lArmDataValidation4\": lArmDataValidation4,\n",
        "            \"lArmDataValidation5\": lArmDataValidation5,\n",
        "            \"lArmDataValidation6\": lArmDataValidation6,\n",
        "            \"lArmDataValidation7\": lArmDataValidation7,\n",
        "            \"lArmDataValidation8\": lArmDataValidation8,\n",
        "\n",
        "            \"rLegDataValidation1\": rLegDataValidation1,\n",
        "            \"rLegDataValidation2\": rLegDataValidation2,\n",
        "            \"rLegDataValidation3\": rLegDataValidation3,\n",
        "            \"rLegDataValidation4\": rLegDataValidation4,\n",
        "            \"rLegDataValidation5\": rLegDataValidation5,\n",
        "            \"rLegDataValidation6\": rLegDataValidation6,\n",
        "            \"rLegDataValidation7\": rLegDataValidation7,\n",
        "            \"rLegDataValidation8\": rLegDataValidation8,\n",
        "\n",
        "            \"lLegDataValidation1\": lLegDataValidation1,\n",
        "            \"lLegDataValidation2\": lLegDataValidation2,\n",
        "            \"lLegDataValidation3\": lLegDataValidation3,\n",
        "            \"lLegDataValidation4\": lLegDataValidation4,\n",
        "            \"lLegDataValidation5\": lLegDataValidation5,\n",
        "            \"lLegDataValidation6\": lLegDataValidation6,\n",
        "            \"lLegDataValidation7\": lLegDataValidation7,\n",
        "            \"lLegDataValidation8\": lLegDataValidation8,\n",
        "\n",
        "            \"chest_lArm_lLegDataValidation1\": chest_lArm_lLegDataValidation1,\n",
        "            \"chest_lArm_lLegDataValidation2\": chest_lArm_lLegDataValidation2,\n",
        "            \"chest_lArm_lLegDataValidation3\": chest_lArm_lLegDataValidation3,\n",
        "            \"chest_lArm_lLegDataValidation4\": chest_lArm_lLegDataValidation4,\n",
        "            \"chest_lArm_lLegDataValidation5\": chest_lArm_lLegDataValidation5,\n",
        "            \"chest_lArm_lLegDataValidation6\": chest_lArm_lLegDataValidation6,\n",
        "            \"chest_lArm_lLegDataValidation7\": chest_lArm_lLegDataValidation7,\n",
        "            \"chest_lArm_lLegDataValidation8\": chest_lArm_lLegDataValidation8,\n",
        "\n",
        "            }"
      ],
      "execution_count": null,
      "outputs": []
    },
    {
      "cell_type": "markdown",
      "metadata": {
        "id": "YBvTm9OByTWG",
        "colab_type": "text"
      },
      "source": [
        "# Sensor Separation"
      ]
    },
    {
      "cell_type": "code",
      "metadata": {
        "id": "I7cQ3SFQZfi8",
        "colab_type": "code",
        "colab": {
          "base_uri": "https://localhost:8080/",
          "height": 153
        },
        "outputId": "f6f47435-ad1d-4c94-a282-8e1ae52f3277"
      },
      "source": [
        "for i in range(8):\n",
        "  print(segments[f\"segments_Training{i+1}\"][:,:,0:9].shape)\n",
        "  particular_sensor_data[f\"allDataTraining{i+1}\"]  = segments[f\"segments_Training{i+1}\"]\n",
        "  particular_sensor_data[f\"chestDataTraining{i+1}\"]  = segments[f\"segments_Training{i+1}\"][:,:,0:9]\n",
        "  particular_sensor_data[f\"rArmDataTraining{i+1}\"]  = segments[f\"segments_Training{i+1}\"][:,:,9:18]\n",
        "  particular_sensor_data[f\"lArmDataTraining{i+1}\"]  = segments[f\"segments_Training{i+1}\"][:,:,18:27]\n",
        "  particular_sensor_data[f\"rLegDataTraining{i+1}\"]  = segments[f\"segments_Training{i+1}\"][:,:,27:36]\n",
        "  particular_sensor_data[f\"lLegDataTraining{i+1}\"]  = segments[f\"segments_Training{i+1}\"][:,:,36:45]\n",
        "  particular_sensor_data[f\"chest_lArm_lLegDataTraining{i+1}\"]  = np.concatenate((particular_sensor_data[f\"chestDataTraining{i+1}\"]\n",
        "  , particular_sensor_data[f\"lArmDataTraining{i+1}\"],particular_sensor_data[f\"lLegDataTraining{i+1}\"]), axis=2) \n",
        "\n",
        "  particular_sensor_data[f\"allDataValidation{i+1}\"]  = segments[f\"segments_Validation{i+1}\"]\n",
        "  particular_sensor_data[f\"chestDataValidation{i+1}\"]  = segments[f\"segments_Validation{i+1}\"][:,:,0:9]\n",
        "  particular_sensor_data[f\"rArmDataValidation{i+1}\"]  = segments[f\"segments_Validation{i+1}\"][:,:,9:18]\n",
        "  particular_sensor_data[f\"lArmDataValidation{i+1}\"]  = segments[f\"segments_Validation{i+1}\"][:,:,18:27]\n",
        "  particular_sensor_data[f\"rLegDataValidation{i+1}\"]  = segments[f\"segments_Validation{i+1}\"][:,:,27:36]\n",
        "  particular_sensor_data[f\"lLegDataValidation{i+1}\"]  = segments[f\"segments_Validation{i+1}\"][:,:,36:45]\n",
        "  particular_sensor_data[f\"chest_lArm_lLegDataValidation{i+1}\"]  = np.concatenate((particular_sensor_data[f\"chestDataValidation{i+1}\"]\n",
        "  , particular_sensor_data[f\"lArmDataValidation{i+1}\"],particular_sensor_data[f\"lLegDataValidation{i+1}\"]), axis=2) \n",
        "\n"
      ],
      "execution_count": null,
      "outputs": [
        {
          "output_type": "stream",
          "text": [
            "(7980, 125, 9)\n",
            "(7980, 125, 9)\n",
            "(7980, 125, 9)\n",
            "(7980, 125, 9)\n",
            "(7980, 125, 9)\n",
            "(7980, 125, 9)\n",
            "(7980, 125, 9)\n",
            "(7980, 125, 9)\n"
          ],
          "name": "stdout"
        }
      ]
    },
    {
      "cell_type": "markdown",
      "metadata": {
        "id": "rOFx5ji9HR_k",
        "colab_type": "text"
      },
      "source": [
        "# Writing into h5 file"
      ]
    },
    {
      "cell_type": "code",
      "metadata": {
        "id": "tiffRErUR1iR",
        "colab_type": "code",
        "colab": {}
      },
      "source": [
        "start_time = time.time()\n",
        "\n",
        "dir = \"/content/gdrive/My Drive/Colab Notebooks/HARprojectV2/\"\n",
        "sensors = [\"chest\", \"rArm\", \"lArm\", \"lLeg\", \"rLeg\", \"chest_lArm_lLeg\", \"all\"]\n",
        "\n",
        "hf = h5py.File(dir+'HAR_Dataset.h5', 'w')\n",
        "##########################################################\n"
      ],
      "execution_count": null,
      "outputs": []
    },
    {
      "cell_type": "code",
      "metadata": {
        "id": "eP1CsuUB2Nx5",
        "colab_type": "code",
        "colab": {
          "base_uri": "https://localhost:8080/",
          "height": 986
        },
        "outputId": "a45a7f05-d49d-4189-fa86-e3901e40af19"
      },
      "source": [
        "\n",
        "for sensor in sensors:\n",
        "  for i in range(8):\n",
        "    hf.create_dataset(f'{sensor}DataTrainingSubject{i+1}', data = particular_sensor_data[f\"{sensor}DataTraining{i+1}\"])\n",
        "    hf.create_dataset(f'{sensor}LabelsTrainingSubject{i+1}', data = segments[f\"labels_Training{i+1}\"])\n",
        "\n",
        "    hf.create_dataset(f'{sensor}DataValidationSubject{i+1}', data = particular_sensor_data[f\"{sensor}DataValidation{i+1}\"])\n",
        "    hf.create_dataset(f'{sensor}LabelsValidationSubject{i+1}', data = segments[f\"labels_Validation{i+1}\"])\n",
        "    print(sensor)\n",
        "##########################################################\n",
        "\n",
        "hf.close()\n",
        "\n",
        "end_time = time.time()\n",
        "print(f\"total time is: {end_time-start_time}\")"
      ],
      "execution_count": null,
      "outputs": [
        {
          "output_type": "stream",
          "text": [
            "chest\n",
            "chest\n",
            "chest\n",
            "chest\n",
            "chest\n",
            "chest\n",
            "chest\n",
            "chest\n",
            "rArm\n",
            "rArm\n",
            "rArm\n",
            "rArm\n",
            "rArm\n",
            "rArm\n",
            "rArm\n",
            "rArm\n",
            "lArm\n",
            "lArm\n",
            "lArm\n",
            "lArm\n",
            "lArm\n",
            "lArm\n",
            "lArm\n",
            "lArm\n",
            "lLeg\n",
            "lLeg\n",
            "lLeg\n",
            "lLeg\n",
            "lLeg\n",
            "lLeg\n",
            "lLeg\n",
            "lLeg\n",
            "rLeg\n",
            "rLeg\n",
            "rLeg\n",
            "rLeg\n",
            "rLeg\n",
            "rLeg\n",
            "rLeg\n",
            "rLeg\n",
            "chest_lArm_lLeg\n",
            "chest_lArm_lLeg\n",
            "chest_lArm_lLeg\n",
            "chest_lArm_lLeg\n",
            "chest_lArm_lLeg\n",
            "chest_lArm_lLeg\n",
            "chest_lArm_lLeg\n",
            "chest_lArm_lLeg\n",
            "all\n",
            "all\n",
            "all\n",
            "all\n",
            "all\n",
            "all\n",
            "all\n",
            "all\n",
            "total time is: 57.20213985443115\n"
          ],
          "name": "stdout"
        }
      ]
    }
  ]
}